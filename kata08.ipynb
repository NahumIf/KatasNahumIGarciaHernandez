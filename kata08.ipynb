{
 "cells": [
  {
   "cell_type": "code",
   "execution_count": 12,
   "metadata": {},
   "outputs": [
    {
     "name": "stdout",
     "output_type": "stream",
     "text": [
      "Mars tiene 42 lunas\n",
      "Mars tiene una circunferencia de 6752\n"
     ]
    }
   ],
   "source": [
    "planeta = {\n",
    "    'name' : 'Mars',\n",
    "    'moons': 42\n",
    "\n",
    "}\n",
    "\n",
    "print(f'{planeta[\"name\"]} tiene {planeta[\"moons\"]} lunas')\n",
    "\n",
    "planeta['circunferencia (km)'] = {\n",
    "   'polar': 6752,\n",
    "   'equatorial': 6792\n",
    "}\n",
    "\n",
    "print(f'{planeta[\"name\"]} tiene una circunferencia de {planeta[\"circunferencia (km)\"] [\"polar\"] }')"
   ]
  },
  {
   "cell_type": "code",
   "execution_count": 18,
   "metadata": {},
   "outputs": [
    {
     "name": "stdout",
     "output_type": "stream",
     "text": [
      "17.833333333333332\n"
     ]
    }
   ],
   "source": [
    "planet_moons = {\n",
    "    'mercury': 0,\n",
    "    'venus': 0,\n",
    "    'earth': 1,\n",
    "    'mars': 2,\n",
    "    'jupiter': 79,\n",
    "    'saturn': 82,\n",
    "    'uranus': 27,\n",
    "    'neptune': 14,\n",
    "    'pluto': 5,\n",
    "    'haumea': 2,\n",
    "    'makemake': 1,\n",
    "    'eris': 1\n",
    "     }\n",
    "\n",
    "moons = planet_moons.values()\n",
    "planets = len(planet_moons.keys() )\n",
    "\n",
    "total_moons = 0\n",
    "for moon in moons:\n",
    "    total_moons = total_moons + moon\n",
    "\n",
    "average = total_moons / planets\n",
    "\n",
    "print(average)"
   ]
  }
 ],
 "metadata": {
  "interpreter": {
   "hash": "e0fbe81484d7741b849332b8345c6a1dd33d11e9ac236f5f0a87dc3eb48ed4cf"
  },
  "kernelspec": {
   "display_name": "Python 3.10.2 ('env': venv)",
   "language": "python",
   "name": "python3"
  },
  "language_info": {
   "codemirror_mode": {
    "name": "ipython",
    "version": 3
   },
   "file_extension": ".py",
   "mimetype": "text/x-python",
   "name": "python",
   "nbconvert_exporter": "python",
   "pygments_lexer": "ipython3",
   "version": "3.10.2"
  },
  "orig_nbformat": 4
 },
 "nbformat": 4,
 "nbformat_minor": 2
}
