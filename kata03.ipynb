{
 "cells": [
  {
   "cell_type": "code",
   "execution_count": 1,
   "metadata": {},
   "outputs": [
    {
     "name": "stdout",
     "output_type": "stream",
     "text": [
      "Un asteroide se dirije a la Tierra a gran velocidad\n"
     ]
    }
   ],
   "source": [
    "asteroide = 49\n",
    "if asteroide >= 25:\n",
    "    print(\"Un asteroide se dirije a la Tierra a gran velocidad\")\n",
    "else:\n",
    "    print(\"Sigue con tu dia\")"
   ]
  },
  {
   "cell_type": "code",
   "execution_count": 5,
   "metadata": {},
   "outputs": [
    {
     "name": "stdout",
     "output_type": "stream",
     "text": [
      "Hay una luz en el cielo\n"
     ]
    }
   ],
   "source": [
    "asteroide = 25\n",
    "if asteroide >= 20:\n",
    "    print(\"Hay una luz en el cielo\")\n",
    "else:\n",
    "    print(\"Sigeu con tu dia\")"
   ]
  },
  {
   "cell_type": "code",
   "execution_count": 12,
   "metadata": {},
   "outputs": [
    {
     "name": "stdout",
     "output_type": "stream",
     "text": [
      "nada que ver\n"
     ]
    }
   ],
   "source": [
    "velocidad = 15\n",
    "tamaño = 15\n",
    "\n",
    "if velocidad >= 25 or tamaño >= 25:\n",
    "    print(\"Advertencia peligro inminente de asteroide\")\n",
    "elif velocidad >= 20 and tamaño <25:\n",
    "    print(\"Mira una luz en el cielo\")\n",
    "elif velocidad < 20 and tamaño < 25:\n",
    "    print(\"nada que ver\")\n",
    "else:\n",
    "    print(\"Nada que ver\")\n"
   ]
  }
 ],
 "metadata": {
  "interpreter": {
   "hash": "dfac9eedb761e2d981ed6452c18661d783f17dfd7efc5f45b74f02c762e91934"
  },
  "kernelspec": {
   "display_name": "Python 3.10.2 64-bit (windows store)",
   "language": "python",
   "name": "python3"
  },
  "language_info": {
   "codemirror_mode": {
    "name": "ipython",
    "version": 3
   },
   "file_extension": ".py",
   "mimetype": "text/x-python",
   "name": "python",
   "nbconvert_exporter": "python",
   "pygments_lexer": "ipython3",
   "version": "3.10.2"
  },
  "orig_nbformat": 4
 },
 "nbformat": 4,
 "nbformat_minor": 2
}
