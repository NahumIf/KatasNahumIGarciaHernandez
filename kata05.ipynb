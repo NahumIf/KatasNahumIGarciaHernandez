{
 "cells": [
  {
   "cell_type": "code",
   "execution_count": 8,
   "metadata": {},
   "outputs": [
    {
     "name": "stdout",
     "output_type": "stream",
     "text": [
      "148028885.31599998\n"
     ]
    }
   ],
   "source": [
    "tierra = 628949330\n",
    "jupiter = 390577534\n",
    "\n",
    "suma = tierra - jupiter\n",
    "\n",
    "print( suma * 0.621 )"
   ]
  },
  {
   "cell_type": "code",
   "execution_count": 9,
   "metadata": {},
   "outputs": [
    {
     "name": "stdout",
     "output_type": "stream",
     "text": [
      "854247600.0\n"
     ]
    }
   ],
   "source": [
    "planeta1 = input(\"Planeta 1\")\n",
    "planeta2 = input(\"planeta 2\")\n",
    "num1 = int(planeta1)\n",
    "num2 = int(planeta2)\n",
    "\n",
    "distancia = abs(num1 - num2)\n",
    "print(abs(distancia *0.621))"
   ]
  }
 ],
 "metadata": {
  "interpreter": {
   "hash": "dfac9eedb761e2d981ed6452c18661d783f17dfd7efc5f45b74f02c762e91934"
  },
  "kernelspec": {
   "display_name": "Python 3.10.2 64-bit (windows store)",
   "language": "python",
   "name": "python3"
  },
  "language_info": {
   "codemirror_mode": {
    "name": "ipython",
    "version": 3
   },
   "file_extension": ".py",
   "mimetype": "text/x-python",
   "name": "python",
   "nbconvert_exporter": "python",
   "pygments_lexer": "ipython3",
   "version": "3.10.2"
  },
  "orig_nbformat": 4
 },
 "nbformat": 4,
 "nbformat_minor": 2
}
