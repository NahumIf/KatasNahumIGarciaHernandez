{
 "cells": [
  {
   "cell_type": "code",
   "execution_count": 7,
   "metadata": {},
   "outputs": [
    {
     "name": "stdout",
     "output_type": "stream",
     "text": [
      "The Moon is Earth's only satellite\n",
      "There are several interesting facts about the Moon and how it affects life here on Earth\n",
      "This yearly drift is not significant enough to cause immediate effects on Earth\n",
      "The highest daylight temperature of the Moon is 127 Celsius.\n"
     ]
    }
   ],
   "source": [
    "text = \"\"\"Interesting facts about the Moon. The Moon is Earth's only satellite. There are several interesting facts about the Moon and how it affects life here on Earth. \\n\",\n",
    " \"On average, the Moon moves 4cm away from the Earth every year. This yearly drift is not significant enough to cause immediate effects on Earth. The highest daylight temperature of the Moon is 127 C.\"\"\"\n",
    "\n",
    "textparts = text.split('. ')\n",
    "textparts\n",
    "keywords = [\"average\", \"temperature\", \"distance\"]\n",
    "\n",
    "for sentence in textparts:\n",
    "    for keywords in keywords:\n",
    "        if keywords in sentence:\n",
    "            print(sentence.replace(' C', ' Celsius'))\n",
    "            break"
   ]
  },
  {
   "cell_type": "code",
   "execution_count": 17,
   "metadata": {},
   "outputs": [
    {
     "name": "stdout",
     "output_type": "stream",
     "text": [
      "-------------------------------------------------------------------------------- \n",
      "Nombre del planeta: marte\n",
      "Gravedad en ganimides: 1.4300000000000002 m/s2\n",
      "\n",
      "\n",
      "Datos de Gravedad sobre: ganimides\n",
      "-------------------------------------------------------------------------------\n",
      "Nombre del planeta: marte\n",
      "Gravedad en ganimides: 1.4300000000000002 m/s2\n",
      "\n"
     ]
    }
   ],
   "source": [
    "name = \"ganimides\"\n",
    "gravity = 0.00143 # in kms\n",
    "planet = \"marte\"\n",
    "\n",
    "title = f'datos sobre la gravedad de{name}'\n",
    "\n",
    "datos = f\"\"\"{'-'*80} \n",
    "Nombre del planeta: {planet}\n",
    "Gravedad en {name}: {gravity * 1000} m/s2\n",
    "\"\"\"\n",
    "\n",
    "template = f\"\"\"{title.title()}\n",
    "{datos}\n",
    " \"\"\"\n",
    "print(datos)\n",
    "\n",
    "\n",
    "new_template = \"\"\"\n",
    "Datos de Gravedad sobre: {name}\n",
    "-------------------------------------------------------------------------------\n",
    "Nombre del planeta: {planet}\n",
    "Gravedad en {name}: {gravity} m/s2\n",
    "\"\"\"\n",
    "print(new_template.format(name=name, planet=planet, gravity=gravity * 1000))\n"
   ]
  }
 ],
 "metadata": {
  "interpreter": {
   "hash": "dfac9eedb761e2d981ed6452c18661d783f17dfd7efc5f45b74f02c762e91934"
  },
  "kernelspec": {
   "display_name": "Python 3.10.2 64-bit (windows store)",
   "language": "python",
   "name": "python3"
  },
  "language_info": {
   "codemirror_mode": {
    "name": "ipython",
    "version": 3
   },
   "file_extension": ".py",
   "mimetype": "text/x-python",
   "name": "python",
   "nbconvert_exporter": "python",
   "pygments_lexer": "ipython3",
   "version": "3.10.2"
  },
  "orig_nbformat": 4
 },
 "nbformat": 4,
 "nbformat_minor": 2
}
