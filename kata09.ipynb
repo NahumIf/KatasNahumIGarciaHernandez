{
 "cells": [
  {
   "cell_type": "code",
   "execution_count": 7,
   "metadata": {},
   "outputs": [
    {
     "name": "stdout",
     "output_type": "stream",
     "text": [
      "Reporte de combustible:\n",
      "    Promedio global: 78.33333333333333%\n",
      "    Principal: 80%\n",
      "    Exterior: 70%\n",
      "    Hidrogeno: 85%\n",
      "    \n",
      "Fuel Report:\n",
      "    Total Average: 78.0%\n",
      "    Main tank: 88%\n",
      "    External tank: 76%\n",
      "    Hydrogen tank: 70% \n",
      "    \n"
     ]
    }
   ],
   "source": [
    "def crear_reporte(principal, exterior, hidrogeno):\n",
    "    promedio_total = (principal + exterior + hidrogeno) / 3\n",
    "    return f\"\"\"Reporte de combustible:\n",
    "    Promedio global: {promedio_total}%\n",
    "    Principal: {principal}%\n",
    "    Exterior: {exterior}%\n",
    "    Hidrogeno: {hidrogeno}%\n",
    "    \"\"\"\n",
    "    \n",
    "print(crear_reporte(80, 70, 85) )\n",
    "\n",
    "def promedio(values):\n",
    "    total = sum(values)\n",
    "    numero_items = len(values)\n",
    "    return total / numero_items\n",
    "\n",
    "promedio([80, 85, 81] )\n",
    "\n",
    "def generate_report(main_tank, external_tank, hydrogen_tank):\n",
    "    return f\"\"\"Fuel Report:\n",
    "    Total Average: {promedio([main_tank, external_tank, hydrogen_tank])}%\n",
    "    Main tank: {main_tank}%\n",
    "    External tank: {external_tank}%\n",
    "    Hydrogen tank: {hydrogen_tank}% \n",
    "    \"\"\"\n",
    "\n",
    "print(generate_report(88, 76, 70))"
   ]
  },
  {
   "cell_type": "code",
   "execution_count": null,
   "metadata": {},
   "outputs": [],
   "source": []
  }
 ],
 "metadata": {
  "interpreter": {
   "hash": "e0fbe81484d7741b849332b8345c6a1dd33d11e9ac236f5f0a87dc3eb48ed4cf"
  },
  "kernelspec": {
   "display_name": "Python 3.10.2 ('env': venv)",
   "language": "python",
   "name": "python3"
  },
  "language_info": {
   "codemirror_mode": {
    "name": "ipython",
    "version": 3
   },
   "file_extension": ".py",
   "mimetype": "text/x-python",
   "name": "python",
   "nbconvert_exporter": "python",
   "pygments_lexer": "ipython3",
   "version": "3.10.2"
  },
  "orig_nbformat": 4
 },
 "nbformat": 4,
 "nbformat_minor": 2
}
